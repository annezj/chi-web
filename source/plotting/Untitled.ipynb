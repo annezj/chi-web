{
 "cells": [
  {
   "cell_type": "code",
   "execution_count": 31,
   "metadata": {},
   "outputs": [
    {
     "name": "stdout",
     "output_type": "stream",
     "text": [
      "loading data from/Users/annejones/chiweb/data/gfs/json/tas-2m-gfs-1.0.json\n"
     ]
    }
   ],
   "source": [
    "import plotly\n",
    "from plotly.graph_objs import *\n",
    "import json\n",
    "import pandas\n",
    "from pandas.io.json import json_normalize\n",
    "'''\n",
    "load data from json file and flatten\n",
    "'''\n",
    "datafile=\"/Users/annejones/chiweb/data/gfs/json/tas-2m-gfs-1.0.json\"\n",
    "print(\"loading data from\" + datafile)\n",
    "#raw=pandas.read_json(datafile)\n",
    "#df=json_normalize(raw)\n",
    "#print(raw['data'].size)\n",
    "with open(datafile) as f:\n",
    "    d = json.load(f)\n",
    "d = json_normalize(d)\n",
    "df = pandas.DataFrame({'T2m':d['data'].loc[0]})"
   ]
  },
  {
   "cell_type": "code",
   "execution_count": 49,
   "metadata": {},
   "outputs": [
    {
     "data": {
      "text/plain": [
       "65160"
      ]
     },
     "execution_count": 49,
     "metadata": {},
     "output_type": "execute_result"
    }
   ],
   "source": [
    "nx=d['header.nx'][0]\n",
    "ny=d['header.ny'][0]\n",
    "lo1=d['header.lo1'][0]\n",
    "lo2=d['header.lo2'][0]\n",
    "la1=d['header.la1'][0]\n",
    "la2=d['header.la2'][0]\n",
    "dx=d['header.dx'][0]\n",
    "dy=d['header.dy'][0]\n",
    "ref_time=d['header.refTime'][0]\n",
    "fcst_time=d['header.forecastTime'][0]\n",
    "len(df['T2m'])"
   ]
  },
  {
   "cell_type": "code",
   "execution_count": 77,
   "metadata": {},
   "outputs": [
    {
     "data": {
      "text/plain": [
       "359.0"
      ]
     },
     "execution_count": 77,
     "metadata": {},
     "output_type": "execute_result"
    }
   ],
   "source": [
    "lo2"
   ]
  },
  {
   "cell_type": "code",
   "execution_count": 79,
   "metadata": {},
   "outputs": [
    {
     "data": {
      "text/plain": [
       "-90.0"
      ]
     },
     "execution_count": 79,
     "metadata": {},
     "output_type": "execute_result"
    }
   ],
   "source": [
    "la2"
   ]
  },
  {
   "cell_type": "code",
   "execution_count": 72,
   "metadata": {},
   "outputs": [],
   "source": [
    "import numpy as np\n",
    "xgrid=np.linspace(start=lo1,stop=lo2,num=nx)\n",
    "ygrid=np.linspace(start=la1,stop=la2,num=ny)\n",
    "y=np.repeat(ygrid,nx)\n",
    "x=np.tile(xgrid,ny)\n",
    "trace1 = {\"x\" : x, \"y\" : y, \"z\" : df['T2m']-273.15,\n",
    "  \"autocolorscale\": False, \n",
    "  \"colorbar\": {\"title\": \"Temperature C\"}, \n",
    "  \"colorscale\": [\n",
    "    [0, \"rgb(5, 10, 172)\"], [0.35, \"rgb(106, 137, 247)\"], [0.5, \"rgb(190,190,190)\"], \n",
    "      [0.6, \"rgb(220, 170, 132)\"], [0.7, \"rgb(230, 145, 90)\"], [1, \"rgb(178, 10, 28)\"]], \n",
    "  \"connectgaps\": False, \n",
    "  \"contours\": {\n",
    "    \"coloring\": \"fill\", \n",
    "    \"end\": 45.0, \n",
    "    \"showlines\": True, \n",
    "    \"size\": 2.5, \n",
    "    \"start\": 5.0\n",
    "  }, \n",
    "  \"name\": \"00 UTC\", \n",
    "  \"reversescale\": False, \n",
    "  \"type\": \"contour\", \n",
    "  \"zauto\": False, \n",
    "  \"zmax\": 45.0, \n",
    "  \"zmin\": 5.0\n",
    "}"
   ]
  },
  {
   "cell_type": "code",
   "execution_count": 81,
   "metadata": {},
   "outputs": [],
   "source": [
    "data = Data([trace1])\n",
    "layout = {\n",
    "  \"autosize\": False, \n",
    "  \"height\": 800, \n",
    "  \"legend\": {\n",
    "    \"x\": 0.861031518625, \n",
    "    \"y\": 0.1\n",
    "  }, \n",
    "  \"title\": \"Temperature at +00h, GFS 1deg Forecast, UTC Start time : 31/01/2018\", \n",
    "  \"width\": 1200, \n",
    "  \"xaxis\": {\n",
    "    \"autorange\": False, \n",
    "    \"gridwidth\": 1.2, \n",
    "    \"mirror\": True, \n",
    "    \"range\": [lo1, lo2], \n",
    "    \"showline\": True, \n",
    "    \"ticks\": \"\", \n",
    "    \"title\": \"Longitude\", \n",
    "    \"type\": \"linear\", \n",
    "    \"zeroline\": False\n",
    "  }, \n",
    "  \"yaxis\": {\n",
    "    \"autorange\": False, \n",
    "    \"gridwidth\": 1.2, \n",
    "    \"mirror\": True, \n",
    "    \"range\": [la2, la1], \n",
    "    \"showline\": True, \n",
    "    \"ticks\": \"\", \n",
    "    \"title\": \"Latitude\", \n",
    "    \"type\": \"linear\", \n",
    "    \"zeroline\": False\n",
    "  }\n",
    "}\n",
    "fig = Figure(data=data, layout=layout)\n",
    "plot_url = plotly.offline.plot(fig)"
   ]
  },
  {
   "cell_type": "code",
   "execution_count": null,
   "metadata": {
    "collapsed": true
   },
   "outputs": [],
   "source": []
  }
 ],
 "metadata": {
  "kernelspec": {
   "display_name": "Python 3",
   "language": "python",
   "name": "python3"
  },
  "language_info": {
   "codemirror_mode": {
    "name": "ipython",
    "version": 3
   },
   "file_extension": ".py",
   "mimetype": "text/x-python",
   "name": "python",
   "nbconvert_exporter": "python",
   "pygments_lexer": "ipython3",
   "version": "3.5.4"
  }
 },
 "nbformat": 4,
 "nbformat_minor": 2
}
