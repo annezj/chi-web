{
 "cells": [
  {
   "cell_type": "code",
   "execution_count": 14,
   "metadata": {},
   "outputs": [
    {
     "name": "stdout",
     "output_type": "stream",
     "text": [
      "loading data from/Users/annejones/chiweb/data/gfs/json/tas-2m-gfs-1.0.json\n"
     ]
    }
   ],
   "source": [
    "import plotly\n",
    "from plotly.graph_objs import *\n",
    "import json\n",
    "import pandas\n",
    "from pandas.io.json import json_normalize\n",
    "'''\n",
    "load data from json file and flatten\n",
    "'''\n",
    "datafile=\"/Users/annejones/chiweb/data/gfs/json/tas-2m-gfs-1.0.json\"\n",
    "print(\"loading data from\" + datafile)\n",
    "#raw=pandas.read_json(datafile)\n",
    "#df=json_normalize(raw)\n",
    "#print(raw['data'].size)\n",
    "with open(datafile) as f:\n",
    "    d = json.load(f)\n",
    "d = json_normalize(d)\n",
    "df = pandas.DataFrame({'T2m':d['data'].loc[0]})"
   ]
  },
  {
   "cell_type": "code",
   "execution_count": 15,
   "metadata": {},
   "outputs": [
    {
     "data": {
      "text/plain": [
       "65160"
      ]
     },
     "execution_count": 15,
     "metadata": {},
     "output_type": "execute_result"
    }
   ],
   "source": [
    "nx=d['header.nx'][0]\n",
    "ny=d['header.ny'][0]\n",
    "lo1=d['header.lo1'][0]\n",
    "lo2=d['header.lo2'][0]\n",
    "la1=d['header.la1'][0]\n",
    "la2=d['header.la2'][0]\n",
    "dx=d['header.dx'][0]\n",
    "dy=d['header.dy'][0]\n",
    "ref_time=d['header.refTime'][0]\n",
    "fcst_time=d['header.forecastTime'][0]\n",
    "len(df['T2m'])"
   ]
  },
  {
   "cell_type": "code",
   "execution_count": 16,
   "metadata": {},
   "outputs": [
    {
     "data": {
      "text/plain": [
       "359.0"
      ]
     },
     "execution_count": 16,
     "metadata": {},
     "output_type": "execute_result"
    }
   ],
   "source": [
    "lo2"
   ]
  },
  {
   "cell_type": "code",
   "execution_count": 17,
   "metadata": {},
   "outputs": [
    {
     "data": {
      "text/plain": [
       "-90.0"
      ]
     },
     "execution_count": 17,
     "metadata": {},
     "output_type": "execute_result"
    }
   ],
   "source": [
    "la2"
   ]
  },
  {
   "cell_type": "code",
   "execution_count": 18,
   "metadata": {
    "collapsed": true
   },
   "outputs": [],
   "source": [
    "import numpy as np\n",
    "xgrid=np.linspace(start=lo1,stop=lo2,num=nx)\n",
    "ygrid=np.linspace(start=la1,stop=la2,num=ny)\n",
    "y=np.repeat(ygrid,nx)\n",
    "x=np.tile(xgrid,ny)\n",
    "trace1 = {\"x\" : x, \"y\" : y, \"z\" : df['T2m']-273.15,\n",
    "  \"autocolorscale\": False, \n",
    "  \"colorbar\": {\"title\": \"Temperature C\"}, \n",
    "  \"colorscale\": [\n",
    "    [0, \"rgb(5, 10, 172)\"], [0.35, \"rgb(106, 137, 247)\"], [0.5, \"rgb(190,190,190)\"], \n",
    "      [0.6, \"rgb(220, 170, 132)\"], [0.7, \"rgb(230, 145, 90)\"], [1, \"rgb(178, 10, 28)\"]], \n",
    "  \"connectgaps\": False, \n",
    "  \"contours\": {\n",
    "    \"coloring\": \"fill\", \n",
    "    \"end\": 45.0, \n",
    "    \"showlines\": True, \n",
    "    \"size\": 2.5, \n",
    "    \"start\": 5.0\n",
    "  }, \n",
    "  \"name\": \"00 UTC\", \n",
    "  \"reversescale\": False, \n",
    "  \"type\": \"contour\", \n",
    "  \"zauto\": False, \n",
    "  \"zmax\": 45.0, \n",
    "  \"zmin\": 5.0\n",
    "}"
   ]
  },
  {
   "cell_type": "code",
   "execution_count": 19,
   "metadata": {
    "collapsed": true
   },
   "outputs": [],
   "source": [
    "data = Data([trace1])\n",
    "layout = {\n",
    "  \"autosize\": False, \n",
    "  \"height\": 800, \n",
    "  \"legend\": {\n",
    "    \"x\": 0.861031518625, \n",
    "    \"y\": 0.1\n",
    "  }, \n",
    "  \"title\": \"Temperature at +00h, GFS 1deg Forecast, UTC Start time : 31/01/2018\", \n",
    "  \"width\": 1200, \n",
    "  \"xaxis\": {\n",
    "    \"autorange\": False, \n",
    "    \"gridwidth\": 1.2, \n",
    "    \"mirror\": True, \n",
    "    \"range\": [lo1, lo2], \n",
    "    \"showline\": True, \n",
    "    \"ticks\": \"\", \n",
    "    \"title\": \"Longitude\", \n",
    "    \"type\": \"linear\", \n",
    "    \"zeroline\": False\n",
    "  }, \n",
    "  \"yaxis\": {\n",
    "    \"autorange\": False, \n",
    "    \"gridwidth\": 1.2, \n",
    "    \"mirror\": True, \n",
    "    \"range\": [la2, la1], \n",
    "    \"showline\": True, \n",
    "    \"ticks\": \"\", \n",
    "    \"title\": \"Latitude\", \n",
    "    \"type\": \"linear\", \n",
    "    \"zeroline\": False\n",
    "  }\n",
    "}\n",
    "fig = Figure(data=data, layout=layout)\n",
    "plot_url = plotly.offline.plot(fig)"
   ]
  },
  {
   "cell_type": "code",
   "execution_count": 20,
   "metadata": {},
   "outputs": [],
   "source": [
    "from mpl_toolkits.basemap import Basemap"
   ]
  },
  {
   "cell_type": "code",
   "execution_count": 21,
   "metadata": {
    "collapsed": true
   },
   "outputs": [],
   "source": [
    "# https://plot.ly/ipython-notebooks/basemap-maps/\n",
    "# Make shortcut to Basemap object, \n",
    "# not specifying projection type for this example\n",
    "m = Basemap() \n",
    "\n",
    "# Make trace-generating function (return a Scatter object)\n",
    "def make_scatter(x,y):\n",
    "    return Scatter(\n",
    "        x=x,\n",
    "        y=y,\n",
    "        mode='lines',\n",
    "        line=Line(color=\"black\"),\n",
    "        name=' '  # no name on hover\n",
    "    )\n",
    "# Functions converting coastline/country polygons to lon/lat traces\n",
    "def polygons_to_traces(poly_paths, N_poly):\n",
    "    ''' \n",
    "    pos arg 1. (poly_paths): paths to polygons\n",
    "    pos arg 2. (N_poly): number of polygon to convert\n",
    "    '''\n",
    "    traces = []  # init. plotting list \n",
    "\n",
    "    for i_poly in range(N_poly):\n",
    "        poly_path = poly_paths[i_poly]\n",
    "        \n",
    "        # get the Basemap coordinates of each segment\n",
    "        coords_cc = np.array(\n",
    "            [(vertex[0],vertex[1]) \n",
    "             for (vertex,code) in poly_path.iter_segments(simplify=False)]\n",
    "        )\n",
    "        \n",
    "        # convert coordinates to lon/lat by 'inverting' the Basemap projection\n",
    "        lon_cc, lat_cc = m(coords_cc[:,0],coords_cc[:,1], inverse=True)\n",
    "        \n",
    "        # add plot.ly plotting options\n",
    "        traces.append(make_scatter(lon_cc,lat_cc))\n",
    "     \n",
    "    return traces\n",
    "\n",
    "# Function generating coastline lon/lat traces\n",
    "def get_coastline_traces():\n",
    "    poly_paths = m.drawcoastlines().get_paths() # coastline polygon paths\n",
    "    N_poly = 91  # use only the 91st biggest coastlines (i.e. no rivers)\n",
    "    return polygons_to_traces(poly_paths, N_poly)\n",
    "\n",
    "# Function generating country lon/lat traces\n",
    "def get_country_traces():\n",
    "    poly_paths = m.drawcountries().get_paths() # country polygon paths\n",
    "    N_poly = len(poly_paths)  # use all countries\n",
    "    return polygons_to_traces(poly_paths, N_poly)"
   ]
  },
  {
   "cell_type": "code",
   "execution_count": 23,
   "metadata": {},
   "outputs": [],
   "source": [
    "# Get list of of coastline and country lon/lat traces\n",
    "traces_cc = get_coastline_traces()+get_country_traces()"
   ]
  },
  {
   "cell_type": "code",
   "execution_count": null,
   "metadata": {
    "collapsed": true
   },
   "outputs": [],
   "source": [
    "data = Data([trace1] + traces_c)\n",
    "layout = {\n",
    "  \"autosize\": False, \n",
    "  \"height\": 800, \n",
    "  \"legend\": {\n",
    "    \"x\": 0.861031518625, \n",
    "    \"y\": 0.1\n",
    "  }, \n",
    "  \"title\": \"Temperature at +00h, GFS 1deg Forecast, UTC Start time : 31/01/2018\", \n",
    "  \"width\": 1200, \n",
    "  \"xaxis\": {\n",
    "    \"autorange\": False, \n",
    "    \"gridwidth\": 1.2, \n",
    "    \"mirror\": True, \n",
    "    \"range\": [lo1, lo2], \n",
    "    \"showline\": True, \n",
    "    \"ticks\": \"\", \n",
    "    \"title\": \"Longitude\", \n",
    "    \"type\": \"linear\", \n",
    "    \"zeroline\": False\n",
    "  }, \n",
    "  \"yaxis\": {\n",
    "    \"autorange\": False, \n",
    "    \"gridwidth\": 1.2, \n",
    "    \"mirror\": True, \n",
    "    \"range\": [la2, la1], \n",
    "    \"showline\": True, \n",
    "    \"ticks\": \"\", \n",
    "    \"title\": \"Latitude\", \n",
    "    \"type\": \"linear\", \n",
    "    \"zeroline\": False\n",
    "  }\n",
    "}\n",
    "fig = Figure(data=data, layout=layout)\n",
    "plot_url = plotly.offline.plot(fig)"
   ]
  }
 ],
 "metadata": {
  "kernelspec": {
   "display_name": "Python 3",
   "language": "python",
   "name": "python3"
  },
  "language_info": {
   "codemirror_mode": {
    "name": "ipython",
    "version": 3
   },
   "file_extension": ".py",
   "mimetype": "text/x-python",
   "name": "python",
   "nbconvert_exporter": "python",
   "pygments_lexer": "ipython3",
   "version": "3.5.4"
  }
 },
 "nbformat": 4,
 "nbformat_minor": 2
}
